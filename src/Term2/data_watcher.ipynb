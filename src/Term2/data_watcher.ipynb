{
 "cells": [
  {
   "cell_type": "code",
   "execution_count": 1,
   "metadata": {
    "collapsed": true
   },
   "outputs": [],
   "source": [
    "import pandas as pd\n",
    "import seaborn as sns"
   ]
  },
  {
   "cell_type": "code",
   "execution_count": 2,
   "outputs": [],
   "source": [
    "test_df = pd.read_csv('../../resource/Term2/test2.csv')\n",
    "train_df = pd.read_csv('../../resource/Term2/train2.csv')"
   ],
   "metadata": {
    "collapsed": false,
    "pycharm": {
     "name": "#%%\n"
    }
   }
  },
  {
   "cell_type": "code",
   "execution_count": 15,
   "outputs": [
    {
     "data": {
      "text/plain": "id                                                      124\n賃料                                                    91000\n所在地                                        東京都世田谷区喜多見９丁目8-7\nアクセス      小田急小田原線\\t喜多見駅\\t徒歩1分\\t\\t小田急小田原線\\t狛江駅\\t徒歩14分\\t\\t...\n間取り                                                      1K\n築年数                                                  10年4ヶ月\n方角                                                        南\n面積                                                   29.5m2\n所在階                                                  4階／4階建\nバス・トイレ    専用バス／\\t専用トイレ／\\tバス・トイレ別／\\tシャワー／\\t追焚機能／\\t浴室乾燥機\\t...\nキッチン                        ガスコンロ／\\tコンロ2口／\\tシステムキッチン\\t／\\t給湯\n放送・通信                                    インターネット対応／\\t光ファイバー\n室内設備      エアコン付\\tウォークインクローゼット\\tシューズボックス／\\tバルコニー／\\tフローリング...\n駐車場        駐輪場\\t空有\\t駐車場\\t近隣\\t18,000円(税込)\\t距離300m\\tバイク置き場\\t無\n周辺環境                               【スーパー】 272m\\t【コンビニ】 113m\n建物構造                                        SRC（鉄骨鉄筋コンクリート）\n契約期間                                                    2年間\nName: 123, dtype: object"
     },
     "execution_count": 15,
     "metadata": {},
     "output_type": "execute_result"
    }
   ],
   "source": [
    "train_df.loc[123,:]"
   ],
   "metadata": {
    "collapsed": false,
    "pycharm": {
     "name": "#%%\n"
    }
   }
  },
  {
   "cell_type": "code",
   "execution_count": null,
   "outputs": [],
   "source": [
    "train_df.describe()\n",
    "train_df.boxplot()"
   ],
   "metadata": {
    "collapsed": false,
    "pycharm": {
     "name": "#%%\n"
    }
   }
  },
  {
   "cell_type": "code",
   "execution_count": 10,
   "outputs": [
    {
     "data": {
      "text/plain": "<matplotlib.axes._subplots.AxesSubplot at 0x7f9129166550>"
     },
     "execution_count": 10,
     "metadata": {},
     "output_type": "execute_result"
    },
    {
     "data": {
      "text/plain": "<Figure size 432x288 with 1 Axes>",
      "image/png": "[encoded data removed]"
     },
     "metadata": {
      "needs_background": "light"
     },
     "output_type": "display_data"
    }
   ],
   "source": [
    "train_df_normal =train_df[train_df['賃料']<=500000]\n",
    "train_df_normal.boxplot()"
   ],
   "metadata": {
    "collapsed": false,
    "pycharm": {
     "name": "#%%\n"
    }
   }
  },
  {
   "cell_type": "code",
   "execution_count": null,
   "outputs": [],
   "source": [],
   "metadata": {
    "collapsed": false,
    "pycharm": {
     "name": "#%%\n"
    }
   }
  }
 ],
 "metadata": {
  "kernelspec": {
   "display_name": "Python 3",
   "language": "python",
   "name": "python3"
  },
  "language_info": {
   "codemirror_mode": {
    "name": "ipython",
    "version": 2
   },
   "file_extension": ".py",
   "mimetype": "text/x-python",
   "name": "python",
   "nbconvert_exporter": "python",
   "pygments_lexer": "ipython2",
   "version": "2.7.6"
  }
 },
 "nbformat": 4,
 "nbformat_minor": 0
}